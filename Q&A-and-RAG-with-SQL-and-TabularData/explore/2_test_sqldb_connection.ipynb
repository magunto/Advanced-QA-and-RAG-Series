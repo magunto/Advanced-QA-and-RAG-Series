{
 "cells": [
  {
   "cell_type": "code",
   "execution_count": 2,
   "metadata": {},
   "outputs": [
    {
     "data": {
      "text/plain": [
       "WindowsPath('d:/Coding/GitHub/Advanced-QA-and-RAG-Series/Q&A-and-RAG-with-SQL-and-TabularData')"
      ]
     },
     "execution_count": 2,
     "metadata": {},
     "output_type": "execute_result"
    }
   ],
   "source": [
    "from pyprojroot import here\n",
    "db_path = str(here(\"data\")) + \"/sqldb.db\"\n",
    "here()"
   ]
  },
  {
   "cell_type": "code",
   "execution_count": 4,
   "metadata": {},
   "outputs": [
    {
     "name": "stdout",
     "output_type": "stream",
     "text": [
      "sqlite\n",
      "['Album', 'Artist', 'Customer', 'Employee', 'Genre', 'Invoice', 'InvoiceLine', 'MediaType', 'Playlist', 'PlaylistTrack', 'Track']\n"
     ]
    },
    {
     "data": {
      "text/plain": [
       "\"[(1, 'AC/DC'), (2, 'Accept'), (3, 'Aerosmith'), (4, 'Alanis Morissette'), (5, 'Alice In Chains'), (6, 'Antônio Carlos Jobim'), (7, 'Apocalyptica'), (8, 'Audioslave'), (9, 'BackBeat'), (10, 'Billy Cobham')]\""
      ]
     },
     "execution_count": 4,
     "metadata": {},
     "output_type": "execute_result"
    }
   ],
   "source": [
    "from langchain_community.utilities import SQLDatabase\n",
    "db = SQLDatabase.from_uri(f\"sqlite:///{db_path}\")\n",
    "print(db.dialect)\n",
    "print(db.get_usable_table_names())\n",
    "db.run(\"SELECT * FROM Artist LIMIT 10;\")"
   ]
  },
  {
   "cell_type": "markdown",
   "metadata": {},
   "source": [
    "**Inspect the sql database**"
   ]
  },
  {
   "cell_type": "code",
   "execution_count": 9,
   "metadata": {},
   "outputs": [
    {
     "name": "stdout",
     "output_type": "stream",
     "text": [
      "Tables: ['Album', 'Artist', 'Customer', 'Employee', 'Genre', 'Invoice', 'InvoiceLine', 'MediaType', 'Playlist', 'PlaylistTrack', 'Track']\n",
      "Information for table: Album\n",
      "Schema: ['main']\n",
      "Column: AlbumId Type: INTEGER\n",
      "Column: Title Type: NVARCHAR(160)\n",
      "Column: ArtistId Type: INTEGER\n",
      "Primary Key Constraint: {'constrained_columns': ['AlbumId'], 'name': None}\n",
      "Foreign Keys: [{'name': None, 'constrained_columns': ['ArtistId'], 'referred_schema': None, 'referred_table': 'Artist', 'referred_columns': ['ArtistId'], 'options': {}}]\n",
      "Information for table: Artist\n",
      "Schema: ['main']\n",
      "Column: ArtistId Type: INTEGER\n",
      "Column: Name Type: NVARCHAR(120)\n",
      "Primary Key Constraint: {'constrained_columns': ['ArtistId'], 'name': None}\n",
      "Foreign Keys: []\n",
      "Information for table: Customer\n",
      "Schema: ['main']\n",
      "Column: CustomerId Type: INTEGER\n",
      "Column: FirstName Type: NVARCHAR(40)\n",
      "Column: LastName Type: NVARCHAR(20)\n",
      "Column: Company Type: NVARCHAR(80)\n",
      "Column: Address Type: NVARCHAR(70)\n",
      "Column: City Type: NVARCHAR(40)\n",
      "Column: State Type: NVARCHAR(40)\n",
      "Column: Country Type: NVARCHAR(40)\n",
      "Column: PostalCode Type: NVARCHAR(10)\n",
      "Column: Phone Type: NVARCHAR(24)\n",
      "Column: Fax Type: NVARCHAR(24)\n",
      "Column: Email Type: NVARCHAR(60)\n",
      "Column: SupportRepId Type: INTEGER\n",
      "Primary Key Constraint: {'constrained_columns': ['CustomerId'], 'name': None}\n",
      "Foreign Keys: [{'name': None, 'constrained_columns': ['SupportRepId'], 'referred_schema': None, 'referred_table': 'Employee', 'referred_columns': ['EmployeeId'], 'options': {}}]\n",
      "Information for table: Employee\n",
      "Schema: ['main']\n",
      "Column: EmployeeId Type: INTEGER\n",
      "Column: LastName Type: NVARCHAR(20)\n",
      "Column: FirstName Type: NVARCHAR(20)\n",
      "Column: Title Type: NVARCHAR(30)\n",
      "Column: ReportsTo Type: INTEGER\n",
      "Column: BirthDate Type: DATETIME\n",
      "Column: HireDate Type: DATETIME\n",
      "Column: Address Type: NVARCHAR(70)\n",
      "Column: City Type: NVARCHAR(40)\n",
      "Column: State Type: NVARCHAR(40)\n",
      "Column: Country Type: NVARCHAR(40)\n",
      "Column: PostalCode Type: NVARCHAR(10)\n",
      "Column: Phone Type: NVARCHAR(24)\n",
      "Column: Fax Type: NVARCHAR(24)\n",
      "Column: Email Type: NVARCHAR(60)\n",
      "Primary Key Constraint: {'constrained_columns': ['EmployeeId'], 'name': None}\n",
      "Foreign Keys: [{'name': None, 'constrained_columns': ['ReportsTo'], 'referred_schema': None, 'referred_table': 'Employee', 'referred_columns': ['EmployeeId'], 'options': {}}]\n",
      "Information for table: Genre\n",
      "Schema: ['main']\n",
      "Column: GenreId Type: INTEGER\n",
      "Column: Name Type: NVARCHAR(120)\n",
      "Primary Key Constraint: {'constrained_columns': ['GenreId'], 'name': None}\n",
      "Foreign Keys: []\n",
      "Information for table: Invoice\n",
      "Schema: ['main']\n",
      "Column: InvoiceId Type: INTEGER\n",
      "Column: CustomerId Type: INTEGER\n",
      "Column: InvoiceDate Type: DATETIME\n",
      "Column: BillingAddress Type: NVARCHAR(70)\n",
      "Column: BillingCity Type: NVARCHAR(40)\n",
      "Column: BillingState Type: NVARCHAR(40)\n",
      "Column: BillingCountry Type: NVARCHAR(40)\n",
      "Column: BillingPostalCode Type: NVARCHAR(10)\n",
      "Column: Total Type: NUMERIC(10, 2)\n",
      "Primary Key Constraint: {'constrained_columns': ['InvoiceId'], 'name': None}\n",
      "Foreign Keys: [{'name': None, 'constrained_columns': ['CustomerId'], 'referred_schema': None, 'referred_table': 'Customer', 'referred_columns': ['CustomerId'], 'options': {}}]\n",
      "Information for table: InvoiceLine\n",
      "Schema: ['main']\n",
      "Column: InvoiceLineId Type: INTEGER\n",
      "Column: InvoiceId Type: INTEGER\n",
      "Column: TrackId Type: INTEGER\n",
      "Column: UnitPrice Type: NUMERIC(10, 2)\n",
      "Column: Quantity Type: INTEGER\n",
      "Primary Key Constraint: {'constrained_columns': ['InvoiceLineId'], 'name': None}\n",
      "Foreign Keys: [{'name': None, 'constrained_columns': ['TrackId'], 'referred_schema': None, 'referred_table': 'Track', 'referred_columns': ['TrackId'], 'options': {}}, {'name': None, 'constrained_columns': ['InvoiceId'], 'referred_schema': None, 'referred_table': 'Invoice', 'referred_columns': ['InvoiceId'], 'options': {}}]\n",
      "Information for table: MediaType\n",
      "Schema: ['main']\n",
      "Column: MediaTypeId Type: INTEGER\n",
      "Column: Name Type: NVARCHAR(120)\n",
      "Primary Key Constraint: {'constrained_columns': ['MediaTypeId'], 'name': None}\n",
      "Foreign Keys: []\n",
      "Information for table: Playlist\n",
      "Schema: ['main']\n",
      "Column: PlaylistId Type: INTEGER\n",
      "Column: Name Type: NVARCHAR(120)\n",
      "Primary Key Constraint: {'constrained_columns': ['PlaylistId'], 'name': None}\n",
      "Foreign Keys: []\n",
      "Information for table: PlaylistTrack\n",
      "Schema: ['main']\n",
      "Column: PlaylistId Type: INTEGER\n",
      "Column: TrackId Type: INTEGER\n",
      "Primary Key Constraint: {'constrained_columns': ['PlaylistId', 'TrackId'], 'name': None}\n",
      "Foreign Keys: [{'name': None, 'constrained_columns': ['TrackId'], 'referred_schema': None, 'referred_table': 'Track', 'referred_columns': ['TrackId'], 'options': {}}, {'name': None, 'constrained_columns': ['PlaylistId'], 'referred_schema': None, 'referred_table': 'Playlist', 'referred_columns': ['PlaylistId'], 'options': {}}]\n",
      "Information for table: Track\n",
      "Schema: ['main']\n",
      "Column: TrackId Type: INTEGER\n",
      "Column: Name Type: NVARCHAR(200)\n",
      "Column: AlbumId Type: INTEGER\n",
      "Column: MediaTypeId Type: INTEGER\n",
      "Column: GenreId Type: INTEGER\n",
      "Column: Composer Type: NVARCHAR(220)\n",
      "Column: Milliseconds Type: INTEGER\n",
      "Column: Bytes Type: INTEGER\n",
      "Column: UnitPrice Type: NUMERIC(10, 2)\n",
      "Primary Key Constraint: {'constrained_columns': ['TrackId'], 'name': None}\n",
      "Foreign Keys: [{'name': None, 'constrained_columns': ['MediaTypeId'], 'referred_schema': None, 'referred_table': 'MediaType', 'referred_columns': ['MediaTypeId'], 'options': {}}, {'name': None, 'constrained_columns': ['GenreId'], 'referred_schema': None, 'referred_table': 'Genre', 'referred_columns': ['GenreId'], 'options': {}}, {'name': None, 'constrained_columns': ['AlbumId'], 'referred_schema': None, 'referred_table': 'Album', 'referred_columns': ['AlbumId'], 'options': {}}]\n"
     ]
    }
   ],
   "source": [
    "from sqlalchemy import create_engine, inspect\n",
    "\n",
    "# Create an engine that connects to the test.db SQLite database\n",
    "engine = create_engine(f\"sqlite:///{db_path}\")\n",
    "\n",
    "# Connect to the database\n",
    "connection = engine.connect()\n",
    "\n",
    "# Create an inspector object\n",
    "inspector = inspect(engine)\n",
    "\n",
    "# Retrieve the names of all the tables in the database\n",
    "table_names = inspector.get_table_names()\n",
    "print(\"Tables:\", table_names)\n",
    "\n",
    "# Loop over each table to get detailed information like schema, columns, etc.\n",
    "for table_name in table_names:\n",
    "    print(f\"Information for table: {table_name}\")\n",
    "    \n",
    "    # Get the schema of the table (for SQLite, schema is often None)\n",
    "    print(f\"Schema: {inspector.get_schema_names()}\")\n",
    "    \n",
    "    # Get the columns and their attributes for each table\n",
    "    columns = inspector.get_columns(table_name)\n",
    "    for column in columns:\n",
    "        print(f\"Column: {column['name']} Type: {column['type']}\")\n",
    "    \n",
    "    # Additionally, you can use get_pk_constraint and get_foreign_keys \n",
    "    # methods to retrieve information about primary and foreign keys respectively\n",
    "    pk_constraint = inspector.get_pk_constraint(table_name)\n",
    "    print(f\"Primary Key Constraint: {pk_constraint}\")\n",
    "\n",
    "    foreign_keys = inspector.get_foreign_keys(table_name)\n",
    "    print(f\"Foreign Keys: {foreign_keys}\")\n",
    "\n",
    "# Do not forget to close the connection when done\n",
    "connection.close()"
   ]
  }
 ],
 "metadata": {
  "kernelspec": {
   "display_name": "Python 3",
   "language": "python",
   "name": "python3"
  },
  "language_info": {
   "codemirror_mode": {
    "name": "ipython",
    "version": 3
   },
   "file_extension": ".py",
   "mimetype": "text/x-python",
   "name": "python",
   "nbconvert_exporter": "python",
   "pygments_lexer": "ipython3",
   "version": "3.10.15"
  }
 },
 "nbformat": 4,
 "nbformat_minor": 2
}
