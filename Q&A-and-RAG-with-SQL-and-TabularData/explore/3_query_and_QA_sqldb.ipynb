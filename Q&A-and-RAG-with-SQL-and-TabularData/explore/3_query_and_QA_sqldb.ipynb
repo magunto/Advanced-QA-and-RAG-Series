{
 "cells": [
  {
   "cell_type": "markdown",
   "metadata": {},
   "source": [
    "https://python.langchain.com/docs/use_cases/sql/quickstart/"
   ]
  },
  {
   "cell_type": "markdown",
   "metadata": {},
   "source": [
    "### **Test the sqldb**"
   ]
  },
  {
   "cell_type": "code",
   "execution_count": 2,
   "metadata": {},
   "outputs": [],
   "source": [
    "from langchain_community.utilities import SQLDatabase\n",
    "from pyprojroot import here\n",
    "import warnings\n",
    "warnings.filterwarnings(\"ignore\")"
   ]
  },
  {
   "cell_type": "markdown",
   "metadata": {},
   "source": [
    "**Connecting to the sqldb**"
   ]
  },
  {
   "cell_type": "code",
   "execution_count": 3,
   "metadata": {},
   "outputs": [],
   "source": [
    "db_path = str(here(\"data\")) + \"/sqldb.db\"\n",
    "db = SQLDatabase.from_uri(f\"sqlite:///{db_path}\")"
   ]
  },
  {
   "cell_type": "code",
   "execution_count": 3,
   "metadata": {},
   "outputs": [
    {
     "data": {
      "text/plain": [
       "<langchain_community.utilities.sql_database.SQLDatabase at 0x286702212a0>"
      ]
     },
     "execution_count": 3,
     "metadata": {},
     "output_type": "execute_result"
    }
   ],
   "source": [
    "db"
   ]
  },
  {
   "cell_type": "code",
   "execution_count": null,
   "metadata": {},
   "outputs": [
    {
     "name": "stdout",
     "output_type": "stream",
     "text": [
      "sqlite\n",
      "['Album', 'Artist', 'Customer', 'Employee', 'Genre', 'Invoice', 'InvoiceLine', 'MediaType', 'Playlist', 'PlaylistTrack', 'Track']\n"
     ]
    },
    {
     "data": {
      "text/plain": [
       "\"[(1, 'Luís', 'Gonçalves', 'Embraer - Empresa Brasileira de Aeronáutica S.A.', 'Av. Brigadeiro Faria Lima, 2170', 'São José dos Campos', 'SP', 'Brazil', '12227-000', '+55 (12) 3923-5555', '+55 (12) 3923-5566', 'luisg@embraer.com.br', 3), (2, 'Leonie', 'Köhler', None, 'Theodor-Heuss-Straße 34', 'Stuttgart', None, 'Germany', '70174', '+49 0711 2842222', None, 'leonekohler@surfeu.de', 5), (3, 'François', 'Tremblay', None, '1498 rue Bélanger', 'Montréal', 'QC', 'Canada', 'H2G 1A7', '+1 (514) 721-4711', None, 'ftremblay@gmail.com', 3), (4, 'Bjørn', 'Hansen', None, 'Ullevålsveien 14', 'Oslo', None, 'Norway', '0171', '+47 22 44 22 22', None, 'bjorn.hansen@yahoo.no', 4), (5, 'František', 'Wichterlová', 'JetBrains s.r.o.', 'Klanova 9/506', 'Prague', None, 'Czech Republic', '14700', '+420 2 4172 5555', '+420 2 4172 5555', 'frantisekw@jetbrains.com', 4), (6, 'Helena', 'Holý', None, 'Rilská 3174/6', 'Prague', None, 'Czech Republic', '14300', '+420 2 4177 0449', None, 'hholy@gmail.com', 5), (7, 'Astrid', 'Gruber', None, 'Rotenturmstraße 4, 1010 Innere Stadt', 'Vienne', None, 'Austria', '1010', '+43 01 5134505', None, 'astrid.gruber@apple.at', 5), (8, 'Daan', 'Peeters', None, 'Grétrystraat 63', 'Brussels', None, 'Belgium', '1000', '+32 02 219 03 03', None, 'daan_peeters@apple.be', 4), (9, 'Kara', 'Nielsen', None, 'Sønder Boulevard 51', 'Copenhagen', None, 'Denmark', '1720', '+453 3331 9991', None, 'kara.nielsen@jubii.dk', 4), (10, 'Eduardo', 'Martins', 'Woodstock Discos', 'Rua Dr. Falcão Filho, 155', 'São Paulo', 'SP', 'Brazil', '01007-010', '+55 (11) 3033-5446', '+55 (11) 3033-4564', 'eduardo@woodstock.com.br', 4)]\""
      ]
     },
     "execution_count": 6,
     "metadata": {},
     "output_type": "execute_result"
    }
   ],
   "source": [
    "# validate the connection to the database\n",
    "print(db.dialect)\n",
    "print(db.get_usable_table_names())\n",
    "db.run(\"SELECT * FROM Customer LIMIT 10;\")"
   ]
  },
  {
   "cell_type": "markdown",
   "metadata": {},
   "source": [
    "### **Test your GPT model**"
   ]
  },
  {
   "cell_type": "code",
   "execution_count": 1,
   "metadata": {},
   "outputs": [],
   "source": [
    "import os\n",
    "from dotenv import load_dotenv\n",
    "load_dotenv()\n",
    "GROQ_API_KEY = os.getenv(\"GROQ_API_KEY\")"
   ]
  },
  {
   "cell_type": "code",
   "execution_count": 2,
   "metadata": {},
   "outputs": [],
   "source": [
    "def get_response(prompt):\n",
    "\n",
    "    from groq import Groq    \n",
    "    groq_client = Groq(api_key=GROQ_API_KEY)\n",
    "    \n",
    "    completion = groq_client.chat.completions.create(\n",
    "        model=\"llama-3.1-70b-versatile\",\n",
    "        messages=[\n",
    "            {\n",
    "                \"role\": \"system\",\n",
    "                \"content\": \"Assistant\",\n",
    "            },\n",
    "            {\n",
    "                \"role\": \"user\",\n",
    "                \"content\": prompt,\n",
    "            },\n",
    "        ],\n",
    "        temperature=0.1,\n",
    "        max_tokens=8000,\n",
    "        top_p=1,\n",
    "        stream=False,\n",
    "        stop=None,\n",
    "    )    \n",
    "    response = completion.choices[0].message.content    \n",
    "    return response"
   ]
  },
  {
   "cell_type": "code",
   "execution_count": null,
   "metadata": {},
   "outputs": [],
   "source": [
    "prompt = \"Tell me a story about Elene in 5 sentences\"\n",
    "get_response(prompt)"
   ]
  },
  {
   "cell_type": "markdown",
   "metadata": {},
   "source": [
    "### **1. SQL query chain**"
   ]
  },
  {
   "cell_type": "code",
   "execution_count": null,
   "metadata": {},
   "outputs": [],
   "source": [
    "# Load the LLM\n",
    "from langchain_core.prompts import ChatPromptTemplate\n",
    "from langchain_groq import ChatGroq\n",
    "\n",
    "llm = ChatGroq(model_name=\"llama-3.1-70b-versatile\",temperature=0.0)"
   ]
  },
  {
   "cell_type": "code",
   "execution_count": 28,
   "metadata": {},
   "outputs": [
    {
     "name": "stdout",
     "output_type": "stream",
     "text": [
      "Question: How many customers are there\n",
      "SQLQuery: SELECT COUNT(\"CustomerId\") FROM \"Customer\"\n"
     ]
    }
   ],
   "source": [
    "from langchain.chains import create_sql_query_chain\n",
    "db = SQLDatabase.from_uri(\"sqlite:///Chinook.db\")\n",
    "chain = create_sql_query_chain(llm, db)\n",
    "response = chain.invoke({\"question\": \"How many customers are there\"})\n",
    "print(response)"
   ]
  },
  {
   "cell_type": "code",
   "execution_count": 52,
   "metadata": {},
   "outputs": [
    {
     "data": {
      "text/plain": [
       "'[(59,)]'"
      ]
     },
     "execution_count": 52,
     "metadata": {},
     "output_type": "execute_result"
    }
   ],
   "source": [
    "sql_query = response.split(\"SQLQuery: \")[1].strip()\n",
    "db.run(sql_query)\n"
   ]
  },
  {
   "cell_type": "code",
   "execution_count": 38,
   "metadata": {},
   "outputs": [
    {
     "name": "stdout",
     "output_type": "stream",
     "text": [
      "You are a SQLite expert. Given an input question, first create a syntactically correct SQLite query to run, then look at the results of the query and return the answer to the input question.\n",
      "Unless the user specifies in the question a specific number of examples to obtain, query for at most 5 results using the LIMIT clause as per SQLite. You can order the results to return the most informative data in the database.\n",
      "Never query for all columns from a table. You must query only the columns that are needed to answer the question. Wrap each column name in double quotes (\") to denote them as delimited identifiers.\n",
      "Pay attention to use only the column names you can see in the tables below. Be careful to not query for columns that do not exist. Also, pay attention to which column is in which table.\n",
      "Pay attention to use date('now') function to get the current date, if the question involves \"today\".\n",
      "\n",
      "Use the following format:\n",
      "\n",
      "Question: Question here\n",
      "SQLQuery: SQL Query to run\n",
      "SQLResult: Result of the SQLQuery\n",
      "Answer: Final answer here\n",
      "\n",
      "Only use the following tables:\n",
      "\u001b[33;1m\u001b[1;3m{table_info}\u001b[0m\n",
      "\n",
      "Question: \u001b[33;1m\u001b[1;3m{input}\u001b[0m\n"
     ]
    }
   ],
   "source": [
    "chain.get_prompts()[0].pretty_print()"
   ]
  },
  {
   "cell_type": "markdown",
   "metadata": {},
   "source": [
    "Execute the query to make sure it’s valid"
   ]
  },
  {
   "cell_type": "markdown",
   "metadata": {},
   "source": [
    "### **Add QuerySQLDataBaseTool to the chain**\n",
    "Execute SQL query\n",
    "\n",
    "**This is the most dangerous part of creating a SQL chain.** Consider carefully if it is OK to run automated queries over your data. Minimize the database connection permissions as much as possible. Consider adding a human approval step to you chains before query execution (see below).\n",
    "\n",
    "We can use the QuerySQLDatabaseTool to easily add query execution to our chain:"
   ]
  },
  {
   "cell_type": "code",
   "execution_count": null,
   "metadata": {},
   "outputs": [],
   "source": [
    "### not working !!!!\n",
    "from langchain_community.tools.sql_database.tool import QuerySQLDataBaseTool\n",
    "\n",
    "write_query = create_sql_query_chain(llm, db)\n",
    "execute_query = QuerySQLDataBaseTool(db=db)\n",
    "\n",
    "chain = write_query | execute_query\n",
    "\n",
    "result = chain.invoke({\"question\": \"How many employees are there\"})\n",
    "print(result)"
   ]
  },
  {
   "cell_type": "code",
   "execution_count": 67,
   "metadata": {},
   "outputs": [
    {
     "name": "stdout",
     "output_type": "stream",
     "text": [
      "SQL Query: SELECT COUNT(\"EmployeeId\") FROM \"Employee\"\n",
      "Result: [(8,)]\n"
     ]
    }
   ],
   "source": [
    "### from Claude\n",
    "\n",
    "from langchain_community.tools.sql_database.tool import QuerySQLDataBaseTool\n",
    "\n",
    "write_query = create_sql_query_chain(llm, db)\n",
    "execute_query = QuerySQLDataBaseTool(db=db)\n",
    "\n",
    "# Get the SQL query first\n",
    "query_response = write_query.invoke({\"question\": \"How many employees are there\"})\n",
    "\n",
    "# Extract just the SQL query part\n",
    "sql_query = query_response.split(\"SQLQuery: \")[1].strip()\n",
    "print(\"SQL Query:\", sql_query)\n",
    "\n",
    "# Execute the query directly with the tool\n",
    "result = execute_query.run(sql_query)\n",
    "print(\"Result:\", result)"
   ]
  },
  {
   "cell_type": "markdown",
   "metadata": {},
   "source": [
    "### **Answer the question in a user friendly manner**"
   ]
  },
  {
   "cell_type": "code",
   "execution_count": null,
   "metadata": {},
   "outputs": [],
   "source": [
    "### not working !!!!\n",
    "from operator import itemgetter\n",
    "from langchain_core.output_parsers import StrOutputParser\n",
    "from langchain_core.prompts import PromptTemplate\n",
    "from langchain_core.runnables import RunnablePassthrough\n",
    "\n",
    "answer_prompt = PromptTemplate.from_template(\n",
    "    \"\"\"Given the following user question, corresponding SQL query, and SQL result, answer the user question.\n",
    "\n",
    "Question: {question}\n",
    "SQLQuery: {query}\n",
    "SQLResult: {result}\n",
    "Answer: \"\"\"\n",
    ")\n",
    "\n",
    "answer = answer_prompt | llm | StrOutputParser()\n",
    "chain = (\n",
    "    RunnablePassthrough.assign(query=write_query).assign(\n",
    "        result=itemgetter(\"query\") | execute_query\n",
    "    )\n",
    "    | answer\n",
    ")\n",
    "\n",
    "chain.invoke({\"question\": \"How many employees are there\"})"
   ]
  },
  {
   "cell_type": "code",
   "execution_count": 96,
   "metadata": {},
   "outputs": [
    {
     "name": "stdout",
     "output_type": "stream",
     "text": [
      "Based on the SQL query and result, there is only 1 customer whose first name starts with 'M' who bought albums from the genre Pop. \n",
      "\n",
      "The customer's name is Marc Dubois, and he bought the album 'Axé Bahia 2001' (twice, as indicated by the duplicate entry in the result).\n"
     ]
    }
   ],
   "source": [
    "### from Claude\n",
    "from operator import itemgetter\n",
    "from langchain_core.output_parsers import StrOutputParser\n",
    "from langchain_core.prompts import PromptTemplate\n",
    "from langchain_core.runnables import RunnablePassthrough\n",
    "\n",
    "# First, create a function to clean the SQL query\n",
    "def clean_sql_query(response):\n",
    "    return response.split(\"SQLQuery: \")[1].strip()\n",
    "\n",
    "answer_prompt = PromptTemplate.from_template(\n",
    "    \"\"\"Given the following user question, corresponding SQL query, and SQL result, answer the user question.\n",
    "\n",
    "Question: {question}\n",
    "SQLQuery: {query}\n",
    "SQLResult: {result}\n",
    "Answer: \"\"\"\n",
    ")\n",
    "\n",
    "answer = answer_prompt | llm | StrOutputParser()\n",
    "\n",
    "write_query = create_sql_query_chain(llm, db)\n",
    "\n",
    "# Modify the chain to clean the SQL query before execution\n",
    "chain = (\n",
    "    RunnablePassthrough.assign(\n",
    "        query=write_query\n",
    "    ).assign(\n",
    "        result=lambda x: execute_query.run(clean_sql_query(x[\"query\"]))\n",
    "    )\n",
    "    | answer\n",
    ")\n",
    "\n",
    "result = chain.invoke({\"question\": \"\"\"how many customers whose first name starts with M bought albums from genre Pop, \n",
    "                       list them, and what album they bought\n",
    "                        \"\"\"})\n",
    "# result = chain.invoke({\"question\": \"\"\"list all customers whose first name starts with K bought albums from genre Pop, \n",
    "#                        provide: first name, last name and country \"\"\"})\n",
    "print(result)"
   ]
  },
  {
   "cell_type": "code",
   "execution_count": null,
   "metadata": {},
   "outputs": [],
   "source": [
    "chain"
   ]
  },
  {
   "cell_type": "markdown",
   "metadata": {},
   "source": [
    "### **2. Agents**\n",
    "\n",
    "Agent which provides a more flexible way of interacting with SQL databases. The main advantages of using the SQL Agent are:\n",
    "\n",
    "- It can answer questions based on the databases’ schema as well as on the databases’ content (like describing a specific table).\n",
    "- It can recover from errors by running a generated query, catching the traceback and regenerating it correctly.\n",
    "- It can answer questions that require multiple dependent queries.\n",
    "- It will save tokens by only considering the schema from relevant tables.\n",
    "\n",
    "To initialize the agent, we use create_sql_agent function. This agent contains the SQLDatabaseToolkit which contains tools to:\n",
    "\n",
    "- Create and execute queries\n",
    "- Check query syntax\n",
    "- Retrieve table descriptions\n",
    "- …"
   ]
  },
  {
   "cell_type": "code",
   "execution_count": 108,
   "metadata": {},
   "outputs": [],
   "source": [
    "from langchain_community.agent_toolkits import create_sql_agent\n",
    "\n",
    "# agent_executor = create_sql_agent(llm, db=db, agent_type=\"openai-tools\", verbose=True)\n",
    "agent_executor = create_sql_agent(llm, db=db, agent_type=\"tool-calling\", verbose=True)\n"
   ]
  },
  {
   "cell_type": "code",
   "execution_count": 109,
   "metadata": {},
   "outputs": [
    {
     "name": "stdout",
     "output_type": "stream",
     "text": [
      "\n",
      "\n",
      "\u001b[1m> Entering new SQL Agent Executor chain...\u001b[0m\n",
      "\u001b[32;1m\u001b[1;3m\n",
      "Invoking: `sql_db_list_tables` with `{}`\n",
      "responded:   Then I should double check my query before executing it.\n",
      "\n",
      "\n",
      "\n",
      "\u001b[0m\u001b[38;5;200m\u001b[1;3mAlbum, Artist, Customer, Employee, Genre, Invoice, InvoiceLine, MediaType, Playlist, PlaylistTrack, Track\u001b[0m\u001b[32;1m\u001b[1;3m\n",
      "Invoking: `sql_db_schema` with `{'table_names': 'orders, customers, employees, products, order_details'}`\n",
      "responded:   Then I should double check my query before executing it.\n",
      "\n",
      "\n",
      "\n",
      "\u001b[0m\u001b[33;1m\u001b[1;3mError: table_names {'products', 'order_details', 'employees', 'customers', 'orders'} not found in database\u001b[0m\u001b[32;1m\u001b[1;3m\n",
      "Invoking: `sql_db_query_checker` with `{'query': 'SELECT T1.Country, SUM(T2.UnitPrice * T2.Quantity) AS TotalSales FROM customers AS T1 INNER JOIN orders AS T3 ON T1.CustomerID = T3.CustomerID INNER JOIN `order details` AS T2 ON T3.OrderID = T2.OrderID GROUP BY T1.Country ORDER BY TotalSales DESC LIMIT 10;'}`\n",
      "responded:   Then I should double check my query before executing it.\n",
      "\n",
      "\n",
      "\n",
      "\u001b[0m\u001b[36;1m\u001b[1;3mSELECT T1.Country, SUM(T2.UnitPrice * T2.Quantity) AS TotalSales \n",
      "FROM customers AS T1 \n",
      "INNER JOIN orders AS T3 ON T1.CustomerID = T3.CustomerID \n",
      "INNER JOIN `order details` AS T2 ON T3.OrderID = T2.OrderID \n",
      "GROUP BY T1.Country \n",
      "ORDER BY TotalSales DESC \n",
      "LIMIT 10;\u001b[0m\u001b[32;1m\u001b[1;3m\n",
      "Invoking: `sql_db_query` with `{'query': 'SELECT T1.Country, SUM(T2.UnitPrice * T2.Quantity) AS TotalSales FROM customers AS T1 INNER JOIN orders AS T3 ON T1.CustomerID = T3.CustomerID INNER JOIN `order details` AS T2 ON T3.OrderID = T2.OrderID GROUP BY T1.Country ORDER BY TotalSales DESC LIMIT 10;'}`\n",
      "responded:   Then I should double check my query before executing it.\n",
      "\n",
      "\n",
      "\n",
      "\u001b[0m\u001b[36;1m\u001b[1;3mError: (sqlite3.OperationalError) no such table: customers\n",
      "[SQL: SELECT T1.Country, SUM(T2.UnitPrice * T2.Quantity) AS TotalSales FROM customers AS T1 INNER JOIN orders AS T3 ON T1.CustomerID = T3.CustomerID INNER JOIN `order details` AS T2 ON T3.OrderID = T2.OrderID GROUP BY T1.Country ORDER BY TotalSales DESC LIMIT 10;]\n",
      "(Background on this error at: https://sqlalche.me/e/20/e3q8)\u001b[0m\u001b[32;1m\u001b[1;3m\n",
      "Invoking: `sql_db_query_checker` with `{'query': 'SELECT T1.Country, SUM(T2.UnitPrice * T2.Quantity) AS TotalSales FROM customers AS T1 INNER JOIN invoices AS T3 ON T1.CustomerId = T3.CustomerId INNER JOIN invoice_items AS T2 ON T3.InvoiceId = T2.InvoiceId GROUP BY T1.Country ORDER BY TotalSales DESC LIMIT 10;'}`\n",
      "\n",
      "\n",
      "\u001b[0m\u001b[36;1m\u001b[1;3mSELECT T1.Country, SUM(T2.UnitPrice * T2.Quantity) AS TotalSales \n",
      "FROM customers AS T1 \n",
      "INNER JOIN invoices AS T3 ON T1.CustomerId = T3.CustomerId \n",
      "INNER JOIN invoice_items AS T2 ON T3.InvoiceId = T2.InvoiceId \n",
      "GROUP BY T1.Country \n",
      "ORDER BY TotalSales DESC \n",
      "LIMIT 10;\u001b[0m\u001b[32;1m\u001b[1;3m\n",
      "Invoking: `sql_db_query` with `{'query': 'SELECT T1.Country, SUM(T2.UnitPrice * T2.Quantity) AS TotalSales FROM customers AS T1 INNER JOIN invoices AS T3 ON T1.CustomerId = T3.CustomerId INNER JOIN invoice_items AS T2 ON T3.InvoiceId = T2.InvoiceId GROUP BY T1.Country ORDER BY TotalSales DESC LIMIT 10;'}`\n",
      "\n",
      "\n",
      "\u001b[0m\u001b[36;1m\u001b[1;3mError: (sqlite3.OperationalError) no such table: customers\n",
      "[SQL: SELECT T1.Country, SUM(T2.UnitPrice * T2.Quantity) AS TotalSales FROM customers AS T1 INNER JOIN invoices AS T3 ON T1.CustomerId = T3.CustomerId INNER JOIN invoice_items AS T2 ON T3.InvoiceId = T2.InvoiceId GROUP BY T1.Country ORDER BY TotalSales DESC LIMIT 10;]\n",
      "(Background on this error at: https://sqlalche.me/e/20/e3q8)\u001b[0m\u001b[32;1m\u001b[1;3m\n",
      "Invoking: `sql_db_query_checker` with `{'query': 'SELECT T1.Country, SUM(T2.UnitPrice * T2.Quantity) AS TotalSales FROM Customer AS T1 INNER JOIN Invoice AS T3 ON T1.CustomerId = T3.CustomerId INNER JOIN InvoiceItem AS T2 ON T3.InvoiceId = T2.InvoiceId GROUP BY T1.Country ORDER BY TotalSales DESC LIMIT 10;'}`\n",
      "\n",
      "\n",
      "\u001b[0m\u001b[36;1m\u001b[1;3mSELECT T1.Country, SUM(T2.UnitPrice * T2.Quantity) AS TotalSales \n",
      "FROM Customer AS T1 \n",
      "INNER JOIN Invoice AS T3 ON T1.CustomerId = T3.CustomerId \n",
      "INNER JOIN InvoiceItem AS T2 ON T3.InvoiceId = T2.InvoiceId \n",
      "GROUP BY T1.Country \n",
      "ORDER BY TotalSales DESC \n",
      "LIMIT 10;\u001b[0m\u001b[32;1m\u001b[1;3m\n",
      "Invoking: `sql_db_query` with `{'query': 'SELECT T1.Country, SUM(T2.UnitPrice * T2.Quantity) AS TotalSales FROM Customer AS T1 INNER JOIN Invoice AS T3 ON T1.CustomerId = T3.CustomerId INNER JOIN InvoiceItem AS T2 ON T3.InvoiceId = T2.InvoiceId GROUP BY T1.Country ORDER BY TotalSales DESC LIMIT 10;'}`\n",
      "\n",
      "\n",
      "\u001b[0m\u001b[36;1m\u001b[1;3mError: (sqlite3.OperationalError) no such table: InvoiceItem\n",
      "[SQL: SELECT T1.Country, SUM(T2.UnitPrice * T2.Quantity) AS TotalSales FROM Customer AS T1 INNER JOIN Invoice AS T3 ON T1.CustomerId = T3.CustomerId INNER JOIN InvoiceItem AS T2 ON T3.InvoiceId = T2.InvoiceId GROUP BY T1.Country ORDER BY TotalSales DESC LIMIT 10;]\n",
      "(Background on this error at: https://sqlalche.me/e/20/e3q8)\u001b[0m\u001b[32;1m\u001b[1;3m\n",
      "Invoking: `sql_db_query_checker` with `{'query': 'SELECT T1.Country, SUM(T2.UnitPrice * T2.Quantity) AS TotalSales FROM Customer AS T1 INNER JOIN Invoice AS T3 ON T1.CustomerId = T3.CustomerId INNER JOIN InvoiceLine AS T2 ON T3.InvoiceId = T2.InvoiceId GROUP BY T1.Country ORDER BY TotalSales DESC LIMIT 10;'}`\n",
      "\n",
      "\n",
      "\u001b[0m\u001b[36;1m\u001b[1;3mSELECT T1.Country, SUM(T2.UnitPrice * T2.Quantity) AS TotalSales \n",
      "FROM Customer AS T1 \n",
      "INNER JOIN Invoice AS T3 ON T1.CustomerId = T3.CustomerId \n",
      "INNER JOIN InvoiceLine AS T2 ON T3.InvoiceId = T2.InvoiceId \n",
      "GROUP BY T1.Country \n",
      "ORDER BY TotalSales DESC \n",
      "LIMIT 10;\u001b[0m\u001b[32;1m\u001b[1;3m\n",
      "Invoking: `sql_db_query` with `{'query': 'SELECT T1.Country, SUM(T2.UnitPrice * T2.Quantity) AS TotalSales FROM Customer AS T1 INNER JOIN Invoice AS T3 ON T1.CustomerId = T3.CustomerId INNER JOIN InvoiceLine AS T2 ON T3.InvoiceId = T2.InvoiceId GROUP BY T1.Country ORDER BY TotalSales DESC LIMIT 10;'}`\n",
      "\n",
      "\n",
      "\u001b[0m\u001b[36;1m\u001b[1;3m[('USA', 523.06), ('Canada', 303.96), ('France', 195.1), ('Brazil', 190.1), ('Germany', 156.48), ('United Kingdom', 112.86), ('Czech Republic', 90.24), ('Portugal', 77.24), ('India', 75.26), ('Chile', 46.62)]\u001b[0m\u001b[32;1m\u001b[1;3mThe total sales per country, sorted from highest to lowest, are:\n",
      "\n",
      "1. USA - $523.06\n",
      "2. Canada - $303.96\n",
      "3. France - $195.10\n",
      "4. Brazil - $190.10\n",
      "5. Germany - $156.48\n",
      "6. United Kingdom - $112.86\n",
      "7. Czech Republic - $90.24\n",
      "8. Portugal - $77.24\n",
      "9. India - $75.26\n",
      "10. Chile - $46.62\u001b[0m\n",
      "\n",
      "\u001b[1m> Finished chain.\u001b[0m\n"
     ]
    },
    {
     "data": {
      "text/plain": [
       "{'input': 'List the total sales per country, sorted from highest to lowest.',\n",
       " 'output': 'The total sales per country, sorted from highest to lowest, are:\\n\\n1. USA - $523.06\\n2. Canada - $303.96\\n3. France - $195.10\\n4. Brazil - $190.10\\n5. Germany - $156.48\\n6. United Kingdom - $112.86\\n7. Czech Republic - $90.24\\n8. Portugal - $77.24\\n9. India - $75.26\\n10. Chile - $46.62'}"
      ]
     },
     "execution_count": 109,
     "metadata": {},
     "output_type": "execute_result"
    }
   ],
   "source": [
    "agent_executor.invoke(\n",
    "    {\n",
    "        \"input\": \"List the total sales per country, sorted from highest to lowest.\"\n",
    "    }\n",
    ")"
   ]
  },
  {
   "cell_type": "code",
   "execution_count": null,
   "metadata": {},
   "outputs": [],
   "source": [
    "agent_executor.invoke({\"input\": \"Describe the playlisttrack table\"})\n",
    "# agent_executor.invoke(\"Describe the playlisttrack table\")"
   ]
  }
 ],
 "metadata": {
  "kernelspec": {
   "display_name": "Python 3",
   "language": "python",
   "name": "python3"
  },
  "language_info": {
   "codemirror_mode": {
    "name": "ipython",
    "version": 3
   },
   "file_extension": ".py",
   "mimetype": "text/x-python",
   "name": "python",
   "nbconvert_exporter": "python",
   "pygments_lexer": "ipython3",
   "version": "3.10.15"
  }
 },
 "nbformat": 4,
 "nbformat_minor": 2
}
