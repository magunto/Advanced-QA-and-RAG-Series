{
 "cells": [
  {
   "cell_type": "code",
   "execution_count": 9,
   "metadata": {},
   "outputs": [],
   "source": [
    "from langchain_community.utilities import SQLDatabase\n",
    "import os"
   ]
  },
  {
   "cell_type": "code",
   "execution_count": 16,
   "metadata": {},
   "outputs": [
    {
     "name": "stdout",
     "output_type": "stream",
     "text": [
      "d:\\Coding\\GitHub\\Advanced-QA-and-RAG-Series\\Q&A-and-RAG-with-SQL-and-TabularData\\src\\utils\n",
      "d:\\Coding\\GitHub\\Advanced-QA-and-RAG-Series\\Q&A-and-RAG-with-SQL-and-TabularData\\src\\utils\\Ginecology_db.sqlite\n"
     ]
    }
   ],
   "source": [
    "current_dir = os.getcwd()\n",
    "db_name = 'Ginecology_db.sqlite'\n",
    "db_path = os.path.join(current_dir,db_name)\n",
    "print(current_dir)\n",
    "print(db_path)\n"
   ]
  },
  {
   "cell_type": "code",
   "execution_count": 13,
   "metadata": {},
   "outputs": [],
   "source": [
    "db = SQLDatabase.from_uri(f\"sqlite:///{db_path}\")"
   ]
  },
  {
   "cell_type": "code",
   "execution_count": 14,
   "metadata": {},
   "outputs": [
    {
     "name": "stdout",
     "output_type": "stream",
     "text": [
      "sqlite\n",
      "[]\n"
     ]
    }
   ],
   "source": [
    "# validate the connection to the database\n",
    "print(db.dialect)\n",
    "print(db.get_usable_table_names())\n",
    "# db.run(\"SELECT * FROM Doctors LIMIT 10;\")"
   ]
  }
 ],
 "metadata": {
  "kernelspec": {
   "display_name": "Python 3",
   "language": "python",
   "name": "python3"
  },
  "language_info": {
   "codemirror_mode": {
    "name": "ipython",
    "version": 3
   },
   "file_extension": ".py",
   "mimetype": "text/x-python",
   "name": "python",
   "nbconvert_exporter": "python",
   "pygments_lexer": "ipython3",
   "version": "3.10.15"
  }
 },
 "nbformat": 4,
 "nbformat_minor": 2
}
